{
 "cells": [
  {
   "cell_type": "markdown",
   "id": "7a59fbfc",
   "metadata": {},
   "source": [
    "# Comandos utilizados - Exercício Spark"
   ]
  },
  {
   "cell_type": "markdown",
   "id": "11cb95ba-8510-4981-b9ae-d90b3d543e03",
   "metadata": {},
   "source": [
    "# Etapa 1"
   ]
  },
  {
   "cell_type": "markdown",
   "id": "74524a22-4eeb-4b58-9d89-6456e0e0d2ff",
   "metadata": {},
   "source": [
    " Comando Pull:"
   ]
  },
  {
   "cell_type": "code",
   "execution_count": null,
   "id": "23087d9d-fb31-4b35-99c7-99908eb4ab0b",
   "metadata": {},
   "outputs": [],
   "source": [
    "docker pull jupyter/all-spark-notebook"
   ]
  },
  {
   "cell_type": "markdown",
   "id": "44542002-48ed-4a1e-85f8-8f0740864ec8",
   "metadata": {},
   "source": [
    "# Etapa 2"
   ]
  },
  {
   "cell_type": "markdown",
   "id": "c665e0ac-e484-4b08-ad7d-9319020e67da",
   "metadata": {},
   "source": [
    "Comando de Execução do Container:"
   ]
  },
  {
   "cell_type": "code",
   "execution_count": null,
   "id": "398c6626-822a-451f-93c9-65bb2039f115",
   "metadata": {},
   "outputs": [],
   "source": [
    "docker run --name container-spark-jup -it -p 8888:8888 jupyter/all-spark-notebook\n"
   ]
  },
  {
   "cell_type": "markdown",
   "id": "f0de4abb-e5f7-4167-9fca-1446093230fe",
   "metadata": {},
   "source": [
    "# Etapa 3"
   ]
  },
  {
   "cell_type": "markdown",
   "id": "c1aa5cdf-c7a3-4428-b736-d45fc4a2e9a5",
   "metadata": {},
   "source": [
    "Comando de Wget e Execução do PySpark:"
   ]
  },
  {
   "cell_type": "code",
   "execution_count": null,
   "id": "2c360781",
   "metadata": {},
   "outputs": [
    {
     "name": "stdout",
     "output_type": "stream",
     "text": [
      "--2025-06-11 16:08:24--  https://raw.githubusercontent.com/lucasrafael-prog/PB-Lucas-Rafael/refs/heads/main/README.md?token=GHSAT0AAAAAADFNPY62HVDB2RZWDSZJ5A5U2CJVIYA\n",
      "Resolving raw.githubusercontent.com (raw.githubusercontent.com)... 185.199.108.133, 185.199.109.133, 185.199.110.133, ...\n",
      "Connecting to raw.githubusercontent.com (raw.githubusercontent.com)|185.199.108.133|:443... connected.\n",
      "HTTP request sent, awaiting response... 200 OK\n",
      "Length: 1589 (1.6K) [text/plain]\n",
      "Saving to: ‘README.md’\n",
      "\n",
      "README.md           100%[===================>]   1.55K  --.-KB/s    in 0s      \n",
      "\n",
      "2025-06-11 16:08:25 (14.8 MB/s) - ‘README.md’ saved [1589/1589]\n",
      "\n"
     ]
    }
   ],
   "source": [
    "!wget \"https://raw.githubusercontent.com/lucasrafael-prog/PB-Lucas-Rafael/refs/heads/main/README.md?token=GHSAT0AAAAAADFNPY62HVDB2RZWDSZJ5A5U2CJVIYA\" -O README.md"
   ]
  },
  {
   "cell_type": "code",
   "execution_count": null,
   "id": "672cb289-98d4-4af9-9568-f7a959a8f0a7",
   "metadata": {},
   "outputs": [],
   "source": [
    "docker exec -it container-spark-jup pyspark "
   ]
  },
  {
   "cell_type": "markdown",
   "id": "6bcc75ad-cc58-4dec-a03e-e551c1579a68",
   "metadata": {},
   "source": [
    "# Etapa 4"
   ]
  },
  {
   "cell_type": "markdown",
   "id": "9603f243",
   "metadata": {},
   "source": [
    "Códigos de Contagem das palavras:"
   ]
  },
  {
   "cell_type": "code",
   "execution_count": 1,
   "id": "432cfdfd-9e5e-401a-baf5-b94cb1020847",
   "metadata": {},
   "outputs": [
    {
     "data": {
      "text/plain": [
       "[('*', 16),\n",
       " ('de', 6),\n",
       " ('e', 6),\n",
       " ('a', 5),\n",
       " ('me', 4),\n",
       " ('que', 4),\n",
       " ('[sprint', 4),\n",
       " ('sprint', 4),\n",
       " ('##', 3),\n",
       " ('-', 3),\n",
       " ('da', 3),\n",
       " ('em', 3),\n",
       " ('sobre', 2),\n",
       " ('---', 2),\n",
       " ('ciência', 2),\n",
       " ('possuo', 2),\n",
       " ('experiência', 2),\n",
       " ('para', 2),\n",
       " ('projetos', 2),\n",
       " ('por', 2),\n",
       " ('o', 2),\n",
       " ('pois', 2),\n",
       " ('desde', 2),\n",
       " ('mais', 2),\n",
       " ('do', 2),\n",
       " ('#', 1),\n",
       " ('mim', 1),\n",
       " ('![fotoapresentacao](./imagens/fotoapresentacao.jpg)', 1),\n",
       " ('lucas', 1),\n",
       " ('rafael', 1),\n",
       " ('laurindo', 1),\n",
       " ('**localização**:', 1),\n",
       " ('(zl)são', 1),\n",
       " ('paulo', 1),\n",
       " ('brasil', 1),\n",
       " ('**instituição', 1),\n",
       " ('ensino**:', 1),\n",
       " ('tatuapé', 1),\n",
       " ('computação', 1),\n",
       " ('**semestre', 1),\n",
       " ('5°', 1),\n",
       " ('semestre', 1),\n",
       " ('*python*,', 1),\n",
       " ('*java*,', 1),\n",
       " ('jogar', 1),\n",
       " ('amigos,', 1),\n",
       " ('tocar', 1),\n",
       " ('violão', 1),\n",
       " ('dev', 1),\n",
       " ('sou', 1),\n",
       " ('um', 1),\n",
       " ('apaixonado', 1),\n",
       " ('solucionar', 1),\n",
       " ('ao', 1),\n",
       " ('ser', 1),\n",
       " ('apresentado', 1),\n",
       " ('programação', 1),\n",
       " ('caminho', 1),\n",
       " ('seguir,', 1),\n",
       " ('principalmente', 1),\n",
       " ('nesse', 1),\n",
       " ('conceito.', 1),\n",
       " ('então,', 1),\n",
       " ('minha', 1),\n",
       " ('sido', 1),\n",
       " ('aprender', 1),\n",
       " ('cada', 1),\n",
       " ('vez', 1),\n",
       " ('mundo,', 1),\n",
       " ('especializações,', 1),\n",
       " ('criando', 1),\n",
       " ('oportunidades.', 1),\n",
       " ('oportunidade', 1),\n",
       " ('participar', 1),\n",
       " ('programa', 1),\n",
       " ('no', 1),\n",
       " ('aplicar', 1),\n",
       " ('na', 1),\n",
       " ('as', 1),\n",
       " ('adquiridas', 1),\n",
       " ('até', 1),\n",
       " ('agora,', 1),\n",
       " ('perfeita!', 1),\n",
       " ('extrair', 1),\n",
       " ('programa,', 1),\n",
       " ('participantes', 1),\n",
       " ('das', 1),\n",
       " ('pessoas', 1),\n",
       " ('chance.', 1),\n",
       " ('sprints', 1),\n",
       " ('1](./sprint%201/)', 1),\n",
       " ('3](./sprint%203/)', 1),\n",
       " ('4](./sprint%204/)', 1),\n",
       " ('5', 1),\n",
       " ('6', 1),\n",
       " ('7', 1),\n",
       " ('olá!', 1),\n",
       " ('chamo', 1),\n",
       " ('lucas!', 1),\n",
       " ('**nome**:', 1),\n",
       " ('ferreira', 1),\n",
       " ('sp', 1),\n",
       " ('universidade', 1),\n",
       " ('paulista', 1),\n",
       " ('campus', 1),\n",
       " ('**curso**:', 1),\n",
       " ('atual**:', 1),\n",
       " ('**experiência**:', 1),\n",
       " ('desenvolvimento', 1),\n",
       " ('solucões', 1),\n",
       " ('acadêmicos.', 1),\n",
       " ('**conhecimento**:', 1),\n",
       " ('sql,', 1),\n",
       " ('html5.', 1),\n",
       " ('**hobbies**:', 1),\n",
       " ('videogame,', 1),\n",
       " ('sair', 1),\n",
       " ('com', 1),\n",
       " ('os', 1),\n",
       " ('viajar.', 1),\n",
       " ('construção...', 1),\n",
       " ('estudante', 1),\n",
       " ('computação,', 1),\n",
       " ('tecnologia', 1),\n",
       " ('entendo', 1),\n",
       " ('gente', 1),\n",
       " ('aptidão', 1),\n",
       " ('problemas.', 1),\n",
       " ('percebi', 1),\n",
       " ('era', 1),\n",
       " ('correto', 1),\n",
       " ('se', 1),\n",
       " ('baseia', 1),\n",
       " ('trajetória', 1),\n",
       " ('tem', 1),\n",
       " ('buscar', 1),\n",
       " ('aprofundar', 1),\n",
       " ('este', 1),\n",
       " ('adquirindo', 1),\n",
       " ('pesquisando', 1),\n",
       " ('bolsas', 1),\n",
       " ('compass', 1),\n",
       " ('uol', 1),\n",
       " ('chega', 1),\n",
       " ('momento', 1),\n",
       " ('oportuno', 1),\n",
       " ('possível,', 1),\n",
       " ('estou', 1),\n",
       " ('numa', 1),\n",
       " ('fase', 1),\n",
       " ('fundamental', 1),\n",
       " ('procuro', 1),\n",
       " ('prática', 1),\n",
       " ('habilidades', 1),\n",
       " ('é', 1),\n",
       " ('ocasião', 1),\n",
       " ('almejo', 1),\n",
       " ('máximo', 1),\n",
       " ('aprendizado', 1),\n",
       " ('dos', 1),\n",
       " ('possibilitaram', 1),\n",
       " ('essa', 1),\n",
       " ('2](./sprint%202/)', 1),\n",
       " ('8', 1)]"
      ]
     },
     "execution_count": 1,
     "metadata": {},
     "output_type": "execute_result"
    }
   ],
   "source": [
    "from pyspark import SparkContext\n",
    "\n",
    "sc = SparkContext.getOrCreate()\n",
    "\n",
    "texto = sc.textFile(\"README.md\")\n",
    "palavras = texto.flatMap(lambda linha: linha.split())\n",
    "map_palavras = palavras.map(lambda palavra: (palavra.lower(), 1))\n",
    "cont = map_palavras.reduceByKey(lambda x, y: x + y)\n",
    "cont.sortBy(lambda par: par[1], ascending=False).collect()\n"
   ]
  }
 ],
 "metadata": {
  "kernelspec": {
   "display_name": "Python 3",
   "language": "python",
   "name": "python3"
  },
  "language_info": {
   "codemirror_mode": {
    "name": "ipython",
    "version": 3
   },
   "file_extension": ".py",
   "mimetype": "text/x-python",
   "name": "python",
   "nbconvert_exporter": "python",
   "pygments_lexer": "ipython3",
   "version": "3.11.9"
  }
 },
 "nbformat": 4,
 "nbformat_minor": 5
}
