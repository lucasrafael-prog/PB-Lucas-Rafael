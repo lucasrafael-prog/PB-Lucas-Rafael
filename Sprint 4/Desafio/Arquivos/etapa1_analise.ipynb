{
 "cells": [
  {
   "cell_type": "markdown",
   "id": "017f4ce1",
   "metadata": {},
   "source": [
    "# Importação das Bibliotecas"
   ]
  },
  {
   "cell_type": "markdown",
   "id": "5b8234d5",
   "metadata": {},
   "source": [
    "Implantação das bibliotecas *Pandas*:"
   ]
  },
  {
   "cell_type": "code",
   "execution_count": 1,
   "id": "e84f00d0",
   "metadata": {},
   "outputs": [],
   "source": [
    "import pandas as pd # Importação Pandas"
   ]
  },
  {
   "cell_type": "markdown",
   "id": "ed64e8cc",
   "metadata": {},
   "source": [
    "# Leitura dos Dados"
   ]
  },
  {
   "cell_type": "code",
   "execution_count": 2,
   "id": "39a49018",
   "metadata": {},
   "outputs": [
    {
     "ename": "UnicodeDecodeError",
     "evalue": "'utf-8' codec can't decode byte 0xed in position 33: invalid continuation byte",
     "output_type": "error",
     "traceback": [
      "\u001b[31m---------------------------------------------------------------------------\u001b[39m",
      "\u001b[31mUnicodeDecodeError\u001b[39m                        Traceback (most recent call last)",
      "\u001b[36mCell\u001b[39m\u001b[36m \u001b[39m\u001b[32mIn[2]\u001b[39m\u001b[32m, line 1\u001b[39m\n\u001b[32m----> \u001b[39m\u001b[32m1\u001b[39m df = \u001b[43mpd\u001b[49m\u001b[43m.\u001b[49m\u001b[43mread_csv\u001b[49m\u001b[43m(\u001b[49m\u001b[33;43m'\u001b[39;49m\u001b[33;43mConsultas_Ambulatoriais_(Referencia_JanFevMar_de_2025).csv\u001b[39;49m\u001b[33;43m'\u001b[39;49m\u001b[43m)\u001b[49m \u001b[38;5;66;03m# Leitura do CSV\u001b[39;00m\n",
      "\u001b[36mFile \u001b[39m\u001b[32m~\\AppData\\Local\\Packages\\PythonSoftwareFoundation.Python.3.11_qbz5n2kfra8p0\\LocalCache\\local-packages\\Python311\\site-packages\\pandas\\io\\parsers\\readers.py:1026\u001b[39m, in \u001b[36mread_csv\u001b[39m\u001b[34m(filepath_or_buffer, sep, delimiter, header, names, index_col, usecols, dtype, engine, converters, true_values, false_values, skipinitialspace, skiprows, skipfooter, nrows, na_values, keep_default_na, na_filter, verbose, skip_blank_lines, parse_dates, infer_datetime_format, keep_date_col, date_parser, date_format, dayfirst, cache_dates, iterator, chunksize, compression, thousands, decimal, lineterminator, quotechar, quoting, doublequote, escapechar, comment, encoding, encoding_errors, dialect, on_bad_lines, delim_whitespace, low_memory, memory_map, float_precision, storage_options, dtype_backend)\u001b[39m\n\u001b[32m   1013\u001b[39m kwds_defaults = _refine_defaults_read(\n\u001b[32m   1014\u001b[39m     dialect,\n\u001b[32m   1015\u001b[39m     delimiter,\n\u001b[32m   (...)\u001b[39m\u001b[32m   1022\u001b[39m     dtype_backend=dtype_backend,\n\u001b[32m   1023\u001b[39m )\n\u001b[32m   1024\u001b[39m kwds.update(kwds_defaults)\n\u001b[32m-> \u001b[39m\u001b[32m1026\u001b[39m \u001b[38;5;28;01mreturn\u001b[39;00m \u001b[43m_read\u001b[49m\u001b[43m(\u001b[49m\u001b[43mfilepath_or_buffer\u001b[49m\u001b[43m,\u001b[49m\u001b[43m \u001b[49m\u001b[43mkwds\u001b[49m\u001b[43m)\u001b[49m\n",
      "\u001b[36mFile \u001b[39m\u001b[32m~\\AppData\\Local\\Packages\\PythonSoftwareFoundation.Python.3.11_qbz5n2kfra8p0\\LocalCache\\local-packages\\Python311\\site-packages\\pandas\\io\\parsers\\readers.py:620\u001b[39m, in \u001b[36m_read\u001b[39m\u001b[34m(filepath_or_buffer, kwds)\u001b[39m\n\u001b[32m    617\u001b[39m _validate_names(kwds.get(\u001b[33m\"\u001b[39m\u001b[33mnames\u001b[39m\u001b[33m\"\u001b[39m, \u001b[38;5;28;01mNone\u001b[39;00m))\n\u001b[32m    619\u001b[39m \u001b[38;5;66;03m# Create the parser.\u001b[39;00m\n\u001b[32m--> \u001b[39m\u001b[32m620\u001b[39m parser = \u001b[43mTextFileReader\u001b[49m\u001b[43m(\u001b[49m\u001b[43mfilepath_or_buffer\u001b[49m\u001b[43m,\u001b[49m\u001b[43m \u001b[49m\u001b[43m*\u001b[49m\u001b[43m*\u001b[49m\u001b[43mkwds\u001b[49m\u001b[43m)\u001b[49m\n\u001b[32m    622\u001b[39m \u001b[38;5;28;01mif\u001b[39;00m chunksize \u001b[38;5;129;01mor\u001b[39;00m iterator:\n\u001b[32m    623\u001b[39m     \u001b[38;5;28;01mreturn\u001b[39;00m parser\n",
      "\u001b[36mFile \u001b[39m\u001b[32m~\\AppData\\Local\\Packages\\PythonSoftwareFoundation.Python.3.11_qbz5n2kfra8p0\\LocalCache\\local-packages\\Python311\\site-packages\\pandas\\io\\parsers\\readers.py:1620\u001b[39m, in \u001b[36mTextFileReader.__init__\u001b[39m\u001b[34m(self, f, engine, **kwds)\u001b[39m\n\u001b[32m   1617\u001b[39m     \u001b[38;5;28mself\u001b[39m.options[\u001b[33m\"\u001b[39m\u001b[33mhas_index_names\u001b[39m\u001b[33m\"\u001b[39m] = kwds[\u001b[33m\"\u001b[39m\u001b[33mhas_index_names\u001b[39m\u001b[33m\"\u001b[39m]\n\u001b[32m   1619\u001b[39m \u001b[38;5;28mself\u001b[39m.handles: IOHandles | \u001b[38;5;28;01mNone\u001b[39;00m = \u001b[38;5;28;01mNone\u001b[39;00m\n\u001b[32m-> \u001b[39m\u001b[32m1620\u001b[39m \u001b[38;5;28mself\u001b[39m._engine = \u001b[38;5;28;43mself\u001b[39;49m\u001b[43m.\u001b[49m\u001b[43m_make_engine\u001b[49m\u001b[43m(\u001b[49m\u001b[43mf\u001b[49m\u001b[43m,\u001b[49m\u001b[43m \u001b[49m\u001b[38;5;28;43mself\u001b[39;49m\u001b[43m.\u001b[49m\u001b[43mengine\u001b[49m\u001b[43m)\u001b[49m\n",
      "\u001b[36mFile \u001b[39m\u001b[32m~\\AppData\\Local\\Packages\\PythonSoftwareFoundation.Python.3.11_qbz5n2kfra8p0\\LocalCache\\local-packages\\Python311\\site-packages\\pandas\\io\\parsers\\readers.py:1898\u001b[39m, in \u001b[36mTextFileReader._make_engine\u001b[39m\u001b[34m(self, f, engine)\u001b[39m\n\u001b[32m   1895\u001b[39m     \u001b[38;5;28;01mraise\u001b[39;00m \u001b[38;5;167;01mValueError\u001b[39;00m(msg)\n\u001b[32m   1897\u001b[39m \u001b[38;5;28;01mtry\u001b[39;00m:\n\u001b[32m-> \u001b[39m\u001b[32m1898\u001b[39m     \u001b[38;5;28;01mreturn\u001b[39;00m \u001b[43mmapping\u001b[49m\u001b[43m[\u001b[49m\u001b[43mengine\u001b[49m\u001b[43m]\u001b[49m\u001b[43m(\u001b[49m\u001b[43mf\u001b[49m\u001b[43m,\u001b[49m\u001b[43m \u001b[49m\u001b[43m*\u001b[49m\u001b[43m*\u001b[49m\u001b[38;5;28;43mself\u001b[39;49m\u001b[43m.\u001b[49m\u001b[43moptions\u001b[49m\u001b[43m)\u001b[49m\n\u001b[32m   1899\u001b[39m \u001b[38;5;28;01mexcept\u001b[39;00m \u001b[38;5;167;01mException\u001b[39;00m:\n\u001b[32m   1900\u001b[39m     \u001b[38;5;28;01mif\u001b[39;00m \u001b[38;5;28mself\u001b[39m.handles \u001b[38;5;129;01mis\u001b[39;00m \u001b[38;5;129;01mnot\u001b[39;00m \u001b[38;5;28;01mNone\u001b[39;00m:\n",
      "\u001b[36mFile \u001b[39m\u001b[32m~\\AppData\\Local\\Packages\\PythonSoftwareFoundation.Python.3.11_qbz5n2kfra8p0\\LocalCache\\local-packages\\Python311\\site-packages\\pandas\\io\\parsers\\c_parser_wrapper.py:93\u001b[39m, in \u001b[36mCParserWrapper.__init__\u001b[39m\u001b[34m(self, src, **kwds)\u001b[39m\n\u001b[32m     90\u001b[39m \u001b[38;5;28;01mif\u001b[39;00m kwds[\u001b[33m\"\u001b[39m\u001b[33mdtype_backend\u001b[39m\u001b[33m\"\u001b[39m] == \u001b[33m\"\u001b[39m\u001b[33mpyarrow\u001b[39m\u001b[33m\"\u001b[39m:\n\u001b[32m     91\u001b[39m     \u001b[38;5;66;03m# Fail here loudly instead of in cython after reading\u001b[39;00m\n\u001b[32m     92\u001b[39m     import_optional_dependency(\u001b[33m\"\u001b[39m\u001b[33mpyarrow\u001b[39m\u001b[33m\"\u001b[39m)\n\u001b[32m---> \u001b[39m\u001b[32m93\u001b[39m \u001b[38;5;28mself\u001b[39m._reader = \u001b[43mparsers\u001b[49m\u001b[43m.\u001b[49m\u001b[43mTextReader\u001b[49m\u001b[43m(\u001b[49m\u001b[43msrc\u001b[49m\u001b[43m,\u001b[49m\u001b[43m \u001b[49m\u001b[43m*\u001b[49m\u001b[43m*\u001b[49m\u001b[43mkwds\u001b[49m\u001b[43m)\u001b[49m\n\u001b[32m     95\u001b[39m \u001b[38;5;28mself\u001b[39m.unnamed_cols = \u001b[38;5;28mself\u001b[39m._reader.unnamed_cols\n\u001b[32m     97\u001b[39m \u001b[38;5;66;03m# error: Cannot determine type of 'names'\u001b[39;00m\n",
      "\u001b[36mFile \u001b[39m\u001b[32mparsers.pyx:574\u001b[39m, in \u001b[36mpandas._libs.parsers.TextReader.__cinit__\u001b[39m\u001b[34m()\u001b[39m\n",
      "\u001b[36mFile \u001b[39m\u001b[32mparsers.pyx:663\u001b[39m, in \u001b[36mpandas._libs.parsers.TextReader._get_header\u001b[39m\u001b[34m()\u001b[39m\n",
      "\u001b[36mFile \u001b[39m\u001b[32mparsers.pyx:874\u001b[39m, in \u001b[36mpandas._libs.parsers.TextReader._tokenize_rows\u001b[39m\u001b[34m()\u001b[39m\n",
      "\u001b[36mFile \u001b[39m\u001b[32mparsers.pyx:891\u001b[39m, in \u001b[36mpandas._libs.parsers.TextReader._check_tokenize_status\u001b[39m\u001b[34m()\u001b[39m\n",
      "\u001b[36mFile \u001b[39m\u001b[32mparsers.pyx:2053\u001b[39m, in \u001b[36mpandas._libs.parsers.raise_parser_error\u001b[39m\u001b[34m()\u001b[39m\n",
      "\u001b[31mUnicodeDecodeError\u001b[39m: 'utf-8' codec can't decode byte 0xed in position 33: invalid continuation byte"
     ]
    }
   ],
   "source": [
    "df = pd.read_csv('Consultas_Ambulatoriais_(Referencia_JanFevMar_de_2025).csv') # Leitura do CSV"
   ]
  },
  {
   "cell_type": "markdown",
   "id": "2f38fac8",
   "metadata": {},
   "source": [
    "Para arquivos de portais públicos, ainda são utilizados padrões de codificação antigos como ISO-8859-1"
   ]
  },
  {
   "cell_type": "code",
   "execution_count": 3,
   "id": "849f954b",
   "metadata": {},
   "outputs": [
    {
     "data": {
      "text/html": [
       "<div>\n",
       "<style scoped>\n",
       "    .dataframe tbody tr th:only-of-type {\n",
       "        vertical-align: middle;\n",
       "    }\n",
       "\n",
       "    .dataframe tbody tr th {\n",
       "        vertical-align: top;\n",
       "    }\n",
       "\n",
       "    .dataframe thead th {\n",
       "        text-align: right;\n",
       "    }\n",
       "</style>\n",
       "<table border=\"1\" class=\"dataframe\">\n",
       "  <thead>\n",
       "    <tr style=\"text-align: right;\">\n",
       "      <th></th>\n",
       "      <th>data_consulta;especialidade;município;idade;sexo</th>\n",
       "    </tr>\n",
       "  </thead>\n",
       "  <tbody>\n",
       "    <tr>\n",
       "      <th>0</th>\n",
       "      <td>02/01/2025 07:00;CARDIOLOGIA PEDIÁTRICA;SERRA ...</td>\n",
       "    </tr>\n",
       "    <tr>\n",
       "      <th>1</th>\n",
       "      <td>02/01/2025 07:00;CARDIOLOGIA PEDIÁTRICA;AREZ;12;M</td>\n",
       "    </tr>\n",
       "    <tr>\n",
       "      <th>2</th>\n",
       "      <td>02/01/2025 07:00;CARDIOLOGIA PEDIÁTRICA;PARNAM...</td>\n",
       "    </tr>\n",
       "    <tr>\n",
       "      <th>3</th>\n",
       "      <td>02/01/2025 07:00;CARDIOLOGIA PEDIÁTRICA;PARNAM...</td>\n",
       "    </tr>\n",
       "    <tr>\n",
       "      <th>4</th>\n",
       "      <td>02/01/2025 07:00;CARDIOLOGIA PEDIÁTRICA;PARNAM...</td>\n",
       "    </tr>\n",
       "    <tr>\n",
       "      <th>...</th>\n",
       "      <td>...</td>\n",
       "    </tr>\n",
       "    <tr>\n",
       "      <th>53660</th>\n",
       "      <td>31/03/2025 16:00;UROLOGIA;CEARÁ-MIRIM;56;M</td>\n",
       "    </tr>\n",
       "    <tr>\n",
       "      <th>53661</th>\n",
       "      <td>31/03/2025 16:00;UROLOGIA;NATAL;59;M</td>\n",
       "    </tr>\n",
       "    <tr>\n",
       "      <th>53662</th>\n",
       "      <td>31/03/2025 16:00;UROLOGIA;PARNAMIRIM;57;M</td>\n",
       "    </tr>\n",
       "    <tr>\n",
       "      <th>53663</th>\n",
       "      <td>31/03/2025 16:00;UROLOGIA;MARCELINO VIEIRA;51;M</td>\n",
       "    </tr>\n",
       "    <tr>\n",
       "      <th>53664</th>\n",
       "      <td>31/03/2025 16:00;UROLOGIA;NATAL;63;F</td>\n",
       "    </tr>\n",
       "  </tbody>\n",
       "</table>\n",
       "<p>53665 rows × 1 columns</p>\n",
       "</div>"
      ],
      "text/plain": [
       "        data_consulta;especialidade;município;idade;sexo\n",
       "0      02/01/2025 07:00;CARDIOLOGIA PEDIÁTRICA;SERRA ...\n",
       "1      02/01/2025 07:00;CARDIOLOGIA PEDIÁTRICA;AREZ;12;M\n",
       "2      02/01/2025 07:00;CARDIOLOGIA PEDIÁTRICA;PARNAM...\n",
       "3      02/01/2025 07:00;CARDIOLOGIA PEDIÁTRICA;PARNAM...\n",
       "4      02/01/2025 07:00;CARDIOLOGIA PEDIÁTRICA;PARNAM...\n",
       "...                                                  ...\n",
       "53660         31/03/2025 16:00;UROLOGIA;CEARÁ-MIRIM;56;M\n",
       "53661               31/03/2025 16:00;UROLOGIA;NATAL;59;M\n",
       "53662          31/03/2025 16:00;UROLOGIA;PARNAMIRIM;57;M\n",
       "53663    31/03/2025 16:00;UROLOGIA;MARCELINO VIEIRA;51;M\n",
       "53664               31/03/2025 16:00;UROLOGIA;NATAL;63;F\n",
       "\n",
       "[53665 rows x 1 columns]"
      ]
     },
     "execution_count": 3,
     "metadata": {},
     "output_type": "execute_result"
    }
   ],
   "source": [
    "df = pd.read_csv('Consultas_Ambulatoriais_(Referencia_JanFevMar_de_2025).csv', encoding='ISO-8859-1') # Leitura do CSV de padrão antigo\n",
    "df"
   ]
  },
  {
   "cell_type": "markdown",
   "id": "482d7f3e",
   "metadata": {},
   "source": [
    "Ainda é necessário separar as colunas da maneira correta"
   ]
  },
  {
   "cell_type": "markdown",
   "id": "2533a2f5",
   "metadata": {},
   "source": [
    "# Definição de Questionamentos"
   ]
  },
  {
   "cell_type": "markdown",
   "id": "3650e593",
   "metadata": {},
   "source": [
    "Para que os questionamentos englobem todas as manipulações, foram escolhidos:"
   ]
  },
  {
   "cell_type": "markdown",
   "id": "ba9f58f7",
   "metadata": {},
   "source": [
    "1 - Separando por faixa etária, quantas pessoas fizeram cirurgias durante o mês de janeiro?\n",
    "\n",
    "2 - Quais especialidades que registram o maior número de atendimentos para cada sexo? Separe 10 para cada.\n",
    "\n",
    "3 - Mostre as 10 cidades que possuem mais pacientes que realizaram atendimento psiquiátrico no hospital."
   ]
  },
  {
   "cell_type": "markdown",
   "id": "a9b161c5",
   "metadata": {},
   "source": [
    "# Conexão com a AWS"
   ]
  },
  {
   "cell_type": "code",
   "execution_count": 4,
   "id": "23bf3d55",
   "metadata": {},
   "outputs": [
    {
     "name": "stdout",
     "output_type": "stream",
     "text": [
      "Note: you may need to restart the kernel to use updated packages.\n"
     ]
    },
    {
     "name": "stderr",
     "output_type": "stream",
     "text": [
      "\n",
      "[notice] A new release of pip is available: 25.0.1 -> 25.1.1\n",
      "[notice] To update, run: C:\\Users\\lucas\\AppData\\Local\\Microsoft\\WindowsApps\\PythonSoftwareFoundation.Python.3.11_qbz5n2kfra8p0\\python.exe -m pip install --upgrade pip\n",
      "ERROR: Invalid requirement: '#': Expected package name at the start of dependency specifier\n",
      "    #\n",
      "    ^\n"
     ]
    }
   ],
   "source": [
    "pip install python-dotenv # Instalação do .env"
   ]
  },
  {
   "cell_type": "code",
   "execution_count": null,
   "id": "630c2d59",
   "metadata": {},
   "outputs": [
    {
     "name": "stdout",
     "output_type": "stream",
     "text": [
      "Collecting boto3\n",
      "  Downloading boto3-1.38.26-py3-none-any.whl.metadata (6.6 kB)\n",
      "Collecting botocore<1.39.0,>=1.38.26 (from boto3)\n",
      "  Downloading botocore-1.38.26-py3-none-any.whl.metadata (5.7 kB)\n",
      "Collecting jmespath<2.0.0,>=0.7.1 (from boto3)\n",
      "  Downloading jmespath-1.0.1-py3-none-any.whl.metadata (7.6 kB)\n",
      "Collecting s3transfer<0.14.0,>=0.13.0 (from boto3)\n",
      "  Downloading s3transfer-0.13.0-py3-none-any.whl.metadata (1.7 kB)\n",
      "Requirement already satisfied: python-dateutil<3.0.0,>=2.1 in c:\\users\\lucas\\appdata\\local\\packages\\pythonsoftwarefoundation.python.3.11_qbz5n2kfra8p0\\localcache\\local-packages\\python311\\site-packages (from botocore<1.39.0,>=1.38.26->boto3) (2.9.0.post0)\n",
      "Collecting urllib3!=2.2.0,<3,>=1.25.4 (from botocore<1.39.0,>=1.38.26->boto3)\n",
      "  Downloading urllib3-2.4.0-py3-none-any.whl.metadata (6.5 kB)\n",
      "Requirement already satisfied: six>=1.5 in c:\\users\\lucas\\appdata\\local\\packages\\pythonsoftwarefoundation.python.3.11_qbz5n2kfra8p0\\localcache\\local-packages\\python311\\site-packages (from python-dateutil<3.0.0,>=2.1->botocore<1.39.0,>=1.38.26->boto3) (1.17.0)\n",
      "Downloading boto3-1.38.26-py3-none-any.whl (139 kB)\n",
      "Downloading botocore-1.38.26-py3-none-any.whl (13.6 MB)\n",
      "   ---------------------------------------- 0.0/13.6 MB ? eta -:--:--\n",
      "   ---------------------------- ----------- 9.7/13.6 MB 50.5 MB/s eta 0:00:01\n",
      "   ---------------------------------------- 13.6/13.6 MB 40.6 MB/s eta 0:00:00\n",
      "Downloading jmespath-1.0.1-py3-none-any.whl (20 kB)\n",
      "Downloading s3transfer-0.13.0-py3-none-any.whl (85 kB)\n",
      "Downloading urllib3-2.4.0-py3-none-any.whl (128 kB)\n",
      "Installing collected packages: urllib3, jmespath, botocore, s3transfer, boto3\n",
      "Successfully installed boto3-1.38.26 botocore-1.38.26 jmespath-1.0.1 s3transfer-0.13.0 urllib3-2.4.0\n",
      "Note: you may need to restart the kernel to use updated packages.\n"
     ]
    },
    {
     "name": "stderr",
     "output_type": "stream",
     "text": [
      "\n",
      "[notice] A new release of pip is available: 25.0.1 -> 25.1.1\n",
      "[notice] To update, run: C:\\Users\\lucas\\AppData\\Local\\Microsoft\\WindowsApps\\PythonSoftwareFoundation.Python.3.11_qbz5n2kfra8p0\\python.exe -m pip install --upgrade pip\n"
     ]
    }
   ],
   "source": [
    "pip install boto3 # Instalação do boto3"
   ]
  },
  {
   "cell_type": "code",
   "execution_count": 5,
   "id": "b8009dee",
   "metadata": {},
   "outputs": [],
   "source": [
    "from dotenv import load_dotenv\n",
    "import boto3\n",
    "import os\n",
    "\n",
    "# Utilização do dotenv para carregar as chaves de acesso\n",
    "load_dotenv()\n",
    "\n",
    "# Conexão do S3 com as Access Keys\n",
    "s3 = boto3.client('s3',\n",
    "    aws_access_key_id=os.getenv('AWS_ACCESS_KEY_ID'),\n",
    "    aws_secret_access_key=os.getenv('AWS_SECRET_ACCESS_KEY'),\n",
    "    aws_session_token=os.getenv('AWS_SESSION_TOKEN'),\n",
    "    region_name='us-east-1'\n",
    ")"
   ]
  },
  {
   "cell_type": "markdown",
   "id": "be48a7dd",
   "metadata": {},
   "source": [
    "Envio dos Arquivos para o Bucket"
   ]
  },
  {
   "cell_type": "code",
   "execution_count": 6,
   "id": "ffac3251",
   "metadata": {},
   "outputs": [],
   "source": [
    "bucket_name = 'sprint4bucket' # Nome do Bucket \n",
    "file_name = 'Consultas_Ambulatoriais_(Referencia_JanFevMar_de_2025).csv' # Arquivo Original \n",
    "object_name = 'consultas_ambulatoriais_original.csv' # Nome do Arquivo no Bucket\n",
    "\n",
    "s3.upload_file(file_name, bucket_name, object_name) # Upload do Arquivo"
   ]
  }
 ],
 "metadata": {
  "kernelspec": {
   "display_name": "Python 3",
   "language": "python",
   "name": "python3"
  },
  "language_info": {
   "codemirror_mode": {
    "name": "ipython",
    "version": 3
   },
   "file_extension": ".py",
   "mimetype": "text/x-python",
   "name": "python",
   "nbconvert_exporter": "python",
   "pygments_lexer": "ipython3",
   "version": "3.11.9"
  }
 },
 "nbformat": 4,
 "nbformat_minor": 5
}
